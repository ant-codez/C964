{
  "metadata": {
    "language_info": {
      "codemirror_mode": {
        "name": "python",
        "version": 3
      },
      "file_extension": ".py",
      "mimetype": "text/x-python",
      "name": "python",
      "nbconvert_exporter": "python",
      "pygments_lexer": "ipython3",
      "version": "3.8"
    },
    "kernelspec": {
      "name": "python",
      "display_name": "Python (Pyodide)",
      "language": "python"
    }
  },
  "nbformat_minor": 4,
  "nbformat": 4,
  "cells": [
    {
      "cell_type": "code",
      "source": "%matplotlib inline\nimport matplotlib.pyplot as plt\nimport numpy as np\nimport pandas as pd\nfrom sklearn.model_selection import train_test_split\nfrom sklearn.feature_extraction.text import CountVectorizer, TfidfVectorizer\nfrom sklearn.naive_bayes import MultinomialNB\nfrom sklearn.metrics import accuracy_score, classification_report\nimport joblib\n\ndf_binary = pd.read_csv('clean_data.csv')\ndf_categories = pd.read_csv('data.csv')\n\ndf_binary = df_binary.dropna(subset=['text']) #clean dataset\ndf_categories['severity_rating'] = [1 if n > 1 else n for n in df_categories['severity_rating']]\ndf_categories.rename(columns={'severity_rating': 'is_offensive'}, inplace=True)\n\n# Combine the two datasets\ndf_combined = pd.concat([df_binary, df_categories], axis=0)\n\n# Split the data for binary classification\nX_train, X_test, y_train, y_test = train_test_split(df_combined['text'], df_combined['is_offensive'], test_size=0.2, random_state=42)\n\n# Vectorize the text data\nvectorizer = CountVectorizer(stop_words='english')\nX_train_vec = vectorizer.fit_transform(X_train)\nX_test_vec = vectorizer.transform(X_test)\n\n# Train a Naive Bayes classifier\nclf = MultinomialNB()\nclf.fit(X_train_vec, y_train)\n\n# Predict on the test set\ny_pred = clf.predict(X_test_vec)\n\nprint(classification_report(y_test, y_pred))\n\n# Split the data for category classification\nX_train, X_test, y_train, y_test = train_test_split(df_categories['text'], df_categories['category_1'], test_size=0.2, random_state=42)\n\n# Use the same vectorizer for category classification\nX_train_vec = vectorizer.transform(X_train)\nX_test_vec = vectorizer.transform(X_test)\n\n# Train the Model for category classification\ncategory_clf = MultinomialNB()\ncategory_clf.fit(X_train_vec, y_train)\n\n\n#Generate dump of both ML models\njoblib.dump(clf, 'profanityFilter.pkl')\njoblib.dump(category_clf, 'profanityType.pkl')",
      "metadata": {
        "trusted": true
      },
      "execution_count": 2,
      "outputs": [
        {
          "name": "stdout",
          "text": "              precision    recall  f1-score   support\n\n         0.0       0.96      0.96      0.96     29502\n         1.0       0.85      0.83      0.84      7688\n\n    accuracy                           0.93     37190\n   macro avg       0.90      0.89      0.90     37190\nweighted avg       0.93      0.93      0.93     37190\n\n",
          "output_type": "stream"
        },
        {
          "execution_count": 2,
          "output_type": "execute_result",
          "data": {
            "text/plain": "['profanityType.pkl']"
          },
          "metadata": {}
        }
      ]
    },
    {
      "cell_type": "code",
      "source": "import joblib\n\n#load models\nclf = joblib.load('profanityFilter.pkl')\ncategory_clf = joblib.load('profanityType.pkl')\n\n\n################### ENTER PHRASE BELOW ###############################\n\nuserPhrase = \"\"\n\n################### ENTER PHRASE ABOVE ###############################\n\n# Test the model\nphrase = [userPhrase]\nphrase_vec = vectorizer.transform(phrase)\n\n# Predict if the phrase is offensive\nis_offensive = clf.predict(phrase_vec)\n\n# Determine the category\nif is_offensive[0] == 1:\n    category = category_clf.predict(phrase_vec)\n    print(f\"The phrase is offensive and belongs to category [{category[0]}]\")\nelse:\n    print(\"The phrase is not offensive.\")",
      "metadata": {
        "trusted": true
      },
      "execution_count": 13,
      "outputs": [
        {
          "ename": "<class 'SyntaxError'>",
          "evalue": "invalid syntax (<ipython-input-13-75606cb27d90>, line 7)",
          "traceback": [
            "\u001b[0;36m  Cell \u001b[0;32mIn[13], line 7\u001b[0;36m\u001b[0m\n\u001b[0;31m    userPhrase =\u001b[0m\n\u001b[0m                  ^\u001b[0m\n\u001b[0;31mSyntaxError\u001b[0m\u001b[0;31m:\u001b[0m invalid syntax\n"
          ],
          "output_type": "error"
        }
      ]
    },
    {
      "cell_type": "code",
      "source": "",
      "metadata": {},
      "execution_count": null,
      "outputs": []
    }
  ]
}
