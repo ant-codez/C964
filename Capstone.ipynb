{
  "cells": [
    {
      "cell_type": "code",
      "execution_count": 2,
      "metadata": {
        "trusted": true
      },
      "outputs": [
        {
          "name": "stdout",
          "output_type": "stream",
          "text": [
            "              precision    recall  f1-score   support\n",
            "\n",
            "         0.0       0.96      0.96      0.96     29502\n",
            "         1.0       0.85      0.83      0.84      7688\n",
            "\n",
            "    accuracy                           0.93     37190\n",
            "   macro avg       0.90      0.89      0.90     37190\n",
            "weighted avg       0.93      0.93      0.93     37190\n",
            "\n"
          ]
        },
        {
          "data": {
            "text/plain": [
              "['profanityType.pkl']"
            ]
          },
          "execution_count": 2,
          "metadata": {},
          "output_type": "execute_result"
        }
      ],
      "source": [
        "%matplotlib inline\n",
        "import matplotlib.pyplot as plt\n",
        "import numpy as np\n",
        "import pandas as pd\n",
        "from sklearn.model_selection import train_test_split\n",
        "from sklearn.feature_extraction.text import CountVectorizer, TfidfVectorizer\n",
        "from sklearn.naive_bayes import MultinomialNB\n",
        "from sklearn.metrics import accuracy_score, classification_report\n",
        "import joblib\n",
        "\n",
        "df_binary = pd.read_csv('clean_data.csv')\n",
        "df_categories = pd.read_csv('data.csv')\n",
        "\n",
        "df_binary = df_binary.dropna(subset=['text']) #clean dataset\n",
        "df_categories['severity_rating'] = [1 if n > 1 else n for n in df_categories['severity_rating']]\n",
        "df_categories.rename(columns={'severity_rating': 'is_offensive'}, inplace=True)\n",
        "\n",
        "# Combine the two datasets\n",
        "df_combined = pd.concat([df_binary, df_categories], axis=0)\n",
        "\n",
        "# Split the data for binary classification\n",
        "X_train, X_test, y_train, y_test = train_test_split(df_combined['text'], df_combined['is_offensive'], test_size=0.2, random_state=42)\n",
        "\n",
        "# Vectorize the text data\n",
        "vectorizer = CountVectorizer(stop_words='english')\n",
        "X_train_vec = vectorizer.fit_transform(X_train)\n",
        "X_test_vec = vectorizer.transform(X_test)\n",
        "\n",
        "# Train a Naive Bayes classifier\n",
        "clf = MultinomialNB()\n",
        "clf.fit(X_train_vec, y_train)\n",
        "\n",
        "# Predict on the test set\n",
        "y_pred = clf.predict(X_test_vec)\n",
        "\n",
        "print(classification_report(y_test, y_pred))\n",
        "print(\"Accuracy:\", accuracy_score(y_test, y_pred))\n",
        "\n",
        "# Split the data for category classification\n",
        "X_train, X_test, y_train, y_test = train_test_split(df_categories['text'], df_categories['category_1'], test_size=0.2, random_state=42)\n",
        "\n",
        "# Use the same vectorizer for category classification\n",
        "X_train_vec = vectorizer.transform(X_train)\n",
        "X_test_vec = vectorizer.transform(X_test)\n",
        "\n",
        "# Train the Model for category classification\n",
        "category_clf = MultinomialNB()\n",
        "category_clf.fit(X_train_vec, y_train)\n",
        "\n",
        "\n",
        "#Generate dump of both ML models\n",
        "joblib.dump(clf, 'profanityFilter.pkl')\n",
        "joblib.dump(category_clf, 'profanityType.pkl')"
      ]
    },
    {
      "cell_type": "code",
      "execution_count": 13,
      "metadata": {
        "trusted": true
      },
      "outputs": [
        {
          "ename": "<class 'SyntaxError'>",
          "evalue": "invalid syntax (<ipython-input-13-75606cb27d90>, line 7)",
          "output_type": "error",
          "traceback": [
            "\u001b[0;36m  Cell \u001b[0;32mIn[13], line 7\u001b[0;36m\u001b[0m\n\u001b[0;31m    userPhrase =\u001b[0m\n\u001b[0m                  ^\u001b[0m\n\u001b[0;31mSyntaxError\u001b[0m\u001b[0;31m:\u001b[0m invalid syntax\n"
          ]
        }
      ],
      "source": [
        "import joblib\n",
        "\n",
        "#load models\n",
        "clf = joblib.load('profanityFilter.pkl')\n",
        "category_clf = joblib.load('profanityType.pkl')\n",
        "\n",
        "\n",
        "################### ENTER PHRASE BELOW ###############################\n",
        "\n",
        "userPhrase = \"TEST MODEL HERE\"\n",
        "\n",
        "################### ENTER PHRASE ABOVE ###############################\n",
        "\n",
        "# Test the model\n",
        "phrase = [userPhrase]\n",
        "phrase_vec = vectorizer.transform(phrase)\n",
        "\n",
        "# Predict if the phrase is offensive\n",
        "is_offensive = clf.predict(phrase_vec)\n",
        "\n",
        "# Determine the category\n",
        "if is_offensive[0] == 1:\n",
        "    category = category_clf.predict(phrase_vec)\n",
        "    print(f\"The phrase is offensive and belongs to category [{category[0]}]\")\n",
        "else:\n",
        "    print(\"The phrase is not offensive.\")"
      ]
    },
    {
      "cell_type": "code",
      "execution_count": null,
      "metadata": {},
      "outputs": [],
      "source": []
    }
  ],
  "metadata": {
    "kernelspec": {
      "display_name": "Python (Pyodide)",
      "language": "python",
      "name": "python"
    },
    "language_info": {
      "codemirror_mode": {
        "name": "python",
        "version": 3
      },
      "file_extension": ".py",
      "mimetype": "text/x-python",
      "name": "python",
      "nbconvert_exporter": "python",
      "pygments_lexer": "ipython3",
      "version": "3.8"
    }
  },
  "nbformat": 4,
  "nbformat_minor": 4
}
